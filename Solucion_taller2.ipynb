{
  "nbformat": 4,
  "nbformat_minor": 0,
  "metadata": {
    "colab": {
      "provenance": [],
      "authorship_tag": "ABX9TyNILG+BRBSwcReMPTZZOVpC",
      "include_colab_link": true
    },
    "kernelspec": {
      "name": "python3",
      "display_name": "Python 3"
    },
    "language_info": {
      "name": "python"
    }
  },
  "cells": [
    {
      "cell_type": "markdown",
      "metadata": {
        "id": "view-in-github",
        "colab_type": "text"
      },
      "source": [
        "<a href=\"https://colab.research.google.com/github/jairgc10/FunProgMec_000522873_Taller2/blob/main/Solucion_taller2.ipynb\" target=\"_parent\"><img src=\"https://colab.research.google.com/assets/colab-badge.svg\" alt=\"Open In Colab\"/></a>"
      ]
    },
    {
      "cell_type": "code",
      "execution_count": null,
      "metadata": {
        "id": "T9puoydRmnyE"
      },
      "outputs": [],
      "source": []
    },
    {
      "cell_type": "markdown",
      "source": [
        "##Taller 2\n",
        "##Fundamentos de Programacion_Ingenieria Mecanica 202310\n",
        ">Estudiante:Jair Ivan Galvan Contreras\n",
        ">ID: 000391831\n",
        ">Email:jair.galvan@upb.edu.co\n"
      ],
      "metadata": {
        "id": "5ZH2QhDLsuep"
      }
    },
    {
      "cell_type": "code",
      "source": [
        "\n",
        "#x_1: pocision de la particula en un tiempo t_1=0\n",
        "t_1=0\n",
        "#x_2:posicion de la particula en un tiempo t_2=5\n",
        "t_1=0\n",
        "t_2=5\n",
        "x_0=3\n",
        "v_0=5\n",
        "a=6\n",
        "\n",
        "\n"
      ],
      "metadata": {
        "id": "sFJnx5pCurOR"
      },
      "execution_count": 11,
      "outputs": []
    }
  ]
}